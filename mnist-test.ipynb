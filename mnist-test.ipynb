{
 "cells": [
  {
   "cell_type": "code",
   "execution_count": 7,
   "metadata": {},
   "outputs": [
    {
     "name": "stderr",
     "output_type": "stream",
     "text": [
      "D:\\conda\\lib\\importlib\\_bootstrap.py:219: RuntimeWarning: numpy.ufunc size changed, may indicate binary incompatibility. Expected 192 from C header, got 216 from PyObject\n",
      "  return f(*args, **kwds)\n",
      "D:\\conda\\lib\\importlib\\_bootstrap.py:219: RuntimeWarning: numpy.ufunc size changed, may indicate binary incompatibility. Expected 192 from C header, got 216 from PyObject\n",
      "  return f(*args, **kwds)\n",
      "D:\\conda\\lib\\importlib\\_bootstrap.py:219: RuntimeWarning: numpy.ufunc size changed, may indicate binary incompatibility. Expected 192 from C header, got 216 from PyObject\n",
      "  return f(*args, **kwds)\n",
      "D:\\conda\\lib\\importlib\\_bootstrap.py:219: RuntimeWarning: numpy.ufunc size changed, may indicate binary incompatibility. Expected 192 from C header, got 216 from PyObject\n",
      "  return f(*args, **kwds)\n",
      "D:\\conda\\lib\\importlib\\_bootstrap.py:219: RuntimeWarning: numpy.ufunc size changed, may indicate binary incompatibility. Expected 192 from C header, got 216 from PyObject\n",
      "  return f(*args, **kwds)\n"
     ]
    }
   ],
   "source": [
    "from scipy import io as scio\n",
    "import numpy as np\n",
    "import matplotlib.pyplot as plt\n",
    "import skimage.transform as sktransform\n",
    "from skimage.filters import threshold_otsu, threshold_sauvola\n",
    "from skimage import feature\n",
    "from tqdm import *\n",
    "from sklearn.model_selection import train_test_split\n",
    "from sklearn.ensemble import RandomForestClassifier\n",
    "from sklearn.metrics import classification_report"
   ]
  },
  {
   "cell_type": "code",
   "execution_count": 58,
   "metadata": {},
   "outputs": [],
   "source": [
    "data = scio.loadmat('./mnist-original.mat')"
   ]
  },
  {
   "cell_type": "code",
   "execution_count": 59,
   "metadata": {},
   "outputs": [],
   "source": [
    "img_data = data['data']\n",
    "label_data = data['label']"
   ]
  },
  {
   "cell_type": "code",
   "execution_count": 60,
   "metadata": {},
   "outputs": [
    {
     "data": {
      "text/plain": [
       "(784, 70000)"
      ]
     },
     "execution_count": 60,
     "metadata": {},
     "output_type": "execute_result"
    }
   ],
   "source": [
    "img_data.shape"
   ]
  },
  {
   "cell_type": "code",
   "execution_count": 61,
   "metadata": {},
   "outputs": [
    {
     "data": {
      "text/plain": [
       "(1, 70000)"
      ]
     },
     "execution_count": 61,
     "metadata": {},
     "output_type": "execute_result"
    }
   ],
   "source": [
    "label_data.shape"
   ]
  },
  {
   "cell_type": "code",
   "execution_count": 62,
   "metadata": {},
   "outputs": [
    {
     "data": {
      "image/png": "[encoded data removed]",
      "text/plain": [
       "<Figure size 432x288 with 1 Axes>"
      ]
     },
     "metadata": {
      "needs_background": "light"
     },
     "output_type": "display_data"
    }
   ],
   "source": [
    "img_sample = np.reshape(img_data[:, 0], [28, 28])\n",
    "plt.imshow(img_sample, cmap='gray')\n",
    "plt.show()"
   ]
  },
  {
   "cell_type": "code",
   "execution_count": 63,
   "metadata": {},
   "outputs": [
    {
     "name": "stdout",
     "output_type": "stream",
     "text": [
      "(70000, 784)\n",
      "(70000, 1)\n"
     ]
    }
   ],
   "source": [
    "dataset = img_data.T\n",
    "label = label_data.T\n",
    "print(dataset.shape)\n",
    "print(label.shape)"
   ]
  },
  {
   "cell_type": "code",
   "execution_count": null,
   "metadata": {},
   "outputs": [],
   "source": [
    "def get_features_list(img):\n",
    "    \"\"\"\n",
    "    Args:\n",
    "        path : string :要进行特征提取的图片路径\n",
    "    Return:\n",
    "        feature_list : dict : 包含三种特征的字典\n",
    "    \"\"\"\n",
    "    gray_image = img\n",
    "    otsu_threshold = threshold_otsu(gray_image)\n",
    "    bin_image = gray_image > otsu_threshold\n",
    "    # 此处分别使用了水平、竖直、以及45 和135 度方向求 GLCM特征\n",
    "    feature_glcm = feature.greycomatrix(gray_image, [3], [0, np.pi / 4, np.pi / 2, 3 * np.pi / 4], levels=256)\n",
    "    hog_feature_vector, hog_image = feature.hog(gray_image, orientations=8, pixels_per_cell=(5, 5),\n",
    "                                                cells_per_block=(1, 1), visualize=True, block_norm='L2-Hys',\n",
    "                                                feature_vector=True)\n",
    "    # 设置LBP 特征提取算法的参数\n",
    "    radius = 3\n",
    "    n_points = 8 * radius\n",
    "    #print(gray_image.dtype)\n",
    "    feature_lbp = feature.local_binary_pattern(bin_image, n_points, radius, 'uniform')\n",
    "    feature_glcm_flattened = feature_glcm.flatten()\n",
    "    feature_hog_flattened = hog_feature_vector\n",
    "    feature_lbp_flattended = feature_lbp.flatten()\n",
    "    result = {'glcm': feature_glcm_flattened, 'hog': feature_hog_flattened, 'lbp': feature_lbp_flattended}\n",
    "    return result"
   ]
  },
  {
   "cell_type": "code",
   "execution_count": null,
   "metadata": {},
   "outputs": [],
   "source": [
    "clf = RandomForestClassifier(n_jobs=-1)"
   ]
  },
  {
   "cell_type": "code",
   "execution_count": null,
   "metadata": {},
   "outputs": [],
   "source": [
    "lbp_feature = []\n",
    "glcm_feature = []\n",
    "hog_feature = []"
   ]
  },
  {
   "cell_type": "code",
   "execution_count": null,
   "metadata": {},
   "outputs": [],
   "source": [
    "for img in tqdm(dataset):\n",
    "    image = np.reshape(img, [28, 28])\n",
    "    features = get_features_list(image)\n",
    "    lbp_feature.append(features['lbp'])\n",
    "#     lbp_feature.append(features['glcm'])\n",
    "#     lbp_feature.append(features['hog'])"
   ]
  },
  {
   "cell_type": "code",
   "execution_count": null,
   "metadata": {},
   "outputs": [],
   "source": [
    "lbp_feature = np.array(lbp_feature)"
   ]
  },
  {
   "cell_type": "code",
   "execution_count": null,
   "metadata": {},
   "outputs": [],
   "source": [
    "lbp_feature.shape"
   ]
  },
  {
   "cell_type": "code",
   "execution_count": null,
   "metadata": {},
   "outputs": [],
   "source": [
    "X_train, X_test, y_train, y_test = train_test_split(lbp_feature, label, test_size=0.3, random_state=1, shuffle=True)"
   ]
  },
  {
   "cell_type": "code",
   "execution_count": null,
   "metadata": {},
   "outputs": [],
   "source": [
    "clf.fit(X_train, y_train)"
   ]
  },
  {
   "cell_type": "code",
   "execution_count": null,
   "metadata": {},
   "outputs": [],
   "source": [
    "clf.score(X_test, y_test)"
   ]
  },
  {
   "cell_type": "code",
   "execution_count": null,
   "metadata": {},
   "outputs": [],
   "source": [
    "test_img = np.reshape(dataset[19999, :], [28, 28])\n",
    "plt.imshow(test_img)\n",
    "plt.show()"
   ]
  },
  {
   "cell_type": "code",
   "execution_count": null,
   "metadata": {},
   "outputs": [],
   "source": [
    "lbp = get_features_list(test_img)['lbp']\n",
    "lbp = np.reshape(lbp, [1, lbp.shape[0]])"
   ]
  },
  {
   "cell_type": "code",
   "execution_count": null,
   "metadata": {},
   "outputs": [],
   "source": [
    "clf.predict(lbp)"
   ]
  },
  {
   "cell_type": "code",
   "execution_count": null,
   "metadata": {},
   "outputs": [],
   "source": [
    "lbp_img = np.reshape(lbp, [28,28])\n",
    "plt.imshow(lbp_img, cmap='gray')\n",
    "plt.show()"
   ]
  },
  {
   "cell_type": "code",
   "execution_count": null,
   "metadata": {},
   "outputs": [],
   "source": [
    "pred = clf.predict(X_test)"
   ]
  },
  {
   "cell_type": "code",
   "execution_count": null,
   "metadata": {},
   "outputs": [],
   "source": [
    "print(classification_report(y_test, pred))"
   ]
  },
  {
   "cell_type": "code",
   "execution_count": null,
   "metadata": {},
   "outputs": [],
   "source": []
  },
  {
   "cell_type": "markdown",
   "metadata": {},
   "source": [
    "### 使用keras 搭建一个简单的CNN 来实现分类"
   ]
  },
  {
   "cell_type": "code",
   "execution_count": 6,
   "metadata": {},
   "outputs": [],
   "source": [
    "from keras.layers import Input, Conv1D, Conv2D, MaxPool1D, MaxPool2D, Softmax, GlobalAveragePooling2D, Dense\n",
    "from keras.optimizers import SGD\n",
    "from keras.callbacks import TensorBoard, ReduceLROnPlateau, ModelCheckpoint\n",
    "from keras.models import Model\n",
    "from keras.utils import to_categorical"
   ]
  },
  {
   "cell_type": "code",
   "execution_count": 121,
   "metadata": {},
   "outputs": [],
   "source": [
    "def get_model():\n",
    "    input_tensor = Input(shape=(28, 28, 1))\n",
    "    x = Conv2D(filters=64 ,kernel_size=(1,1) ,strides=(1, 1), activation='relu')(input_tensor)\n",
    "    x = MaxPool2D(pool_size=(1, 1), strides=(2,2))(x)\n",
    "    \n",
    "    x = Conv2D(filters=128,kernel_size=(3,3), strides=(1, 1), activation='relu')(x)\n",
    "    x = MaxPool2D(pool_size=(2, 2), strides=(2, 2))(x)\n",
    "    \n",
    "    x = Conv2D(filters=256,kernel_size=(3,3), strides=(1, 1), activation='relu')(x)\n",
    "    x = MaxPool2D(pool_size=(2, 2), strides=(2, 2))(x)     \n",
    "    x = GlobalAveragePooling2D()(x)\n",
    "    x = Dense(256, activation='relu')(x)\n",
    "    y = Dense(10,activation='softmax')(x)\n",
    "    model = Model(input=input_tensor, outputs=y)\n",
    "    optimizer = SGD(learning_rate=0.001, momentum=0.9)\n",
    "    model.compile(optimizer=optimizer, loss='categorical_crossentropy')\n",
    "    return model"
   ]
  },
  {
   "cell_type": "code",
   "execution_count": 122,
   "metadata": {},
   "outputs": [
    {
     "name": "stderr",
     "output_type": "stream",
     "text": [
      "D:\\conda\\lib\\site-packages\\ipykernel_launcher.py:14: UserWarning: Update your `Model` call to the Keras 2 API: `Model(outputs=Tensor(\"de..., inputs=Tensor(\"in...)`\n",
      "  \n"
     ]
    }
   ],
   "source": [
    "model = get_model()"
   ]
  },
  {
   "cell_type": "code",
   "execution_count": 123,
   "metadata": {},
   "outputs": [
    {
     "name": "stdout",
     "output_type": "stream",
     "text": [
      "Model: \"model_13\"\n",
      "_________________________________________________________________\n",
      "Layer (type)                 Output Shape              Param #   \n",
      "=================================================================\n",
      "input_18 (InputLayer)        (None, 28, 28, 1)         0         \n",
      "_________________________________________________________________\n",
      "conv2d_47 (Conv2D)           (None, 28, 28, 64)        128       \n",
      "_________________________________________________________________\n",
      "max_pooling2d_46 (MaxPooling (None, 14, 14, 64)        0         \n",
      "_________________________________________________________________\n",
      "conv2d_48 (Conv2D)           (None, 12, 12, 128)       73856     \n",
      "_________________________________________________________________\n",
      "max_pooling2d_47 (MaxPooling (None, 6, 6, 128)         0         \n",
      "_________________________________________________________________\n",
      "conv2d_49 (Conv2D)           (None, 4, 4, 256)         295168    \n",
      "_________________________________________________________________\n",
      "max_pooling2d_48 (MaxPooling (None, 2, 2, 256)         0         \n",
      "_________________________________________________________________\n",
      "global_average_pooling2d_15  (None, 256)               0         \n",
      "_________________________________________________________________\n",
      "dense_17 (Dense)             (None, 256)               65792     \n",
      "_________________________________________________________________\n",
      "dense_18 (Dense)             (None, 10)                2570      \n",
      "=================================================================\n",
      "Total params: 437,514\n",
      "Trainable params: 437,514\n",
      "Non-trainable params: 0\n",
      "_________________________________________________________________\n"
     ]
    }
   ],
   "source": [
    "model.summary()"
   ]
  },
  {
   "cell_type": "code",
   "execution_count": 124,
   "metadata": {},
   "outputs": [
    {
     "data": {
      "text/plain": [
       "(70000, 10)"
      ]
     },
     "execution_count": 124,
     "metadata": {},
     "output_type": "execute_result"
    }
   ],
   "source": [
    "y_one_hot = to_categorical(label)\n",
    "y_one_hot.shape"
   ]
  },
  {
   "cell_type": "code",
   "execution_count": 125,
   "metadata": {},
   "outputs": [],
   "source": [
    "dataset_img = np.reshape(dataset, [dataset.shape[0], 28, 28, 1])"
   ]
  },
  {
   "cell_type": "code",
   "execution_count": 126,
   "metadata": {},
   "outputs": [
    {
     "data": {
      "text/plain": [
       "(70000, 28, 28, 1)"
      ]
     },
     "execution_count": 126,
     "metadata": {},
     "output_type": "execute_result"
    }
   ],
   "source": [
    "dataset_img.shape"
   ]
  },
  {
   "cell_type": "code",
   "execution_count": 127,
   "metadata": {},
   "outputs": [
    {
     "data": {
      "image/png": "[encoded data removed]",
      "text/plain": [
       "<Figure size 432x288 with 1 Axes>"
      ]
     },
     "metadata": {
      "needs_background": "light"
     },
     "output_type": "display_data"
    },
    {
     "data": {
      "text/plain": [
       "(<matplotlib.image.AxesImage at 0x18855b46688>, None)"
      ]
     },
     "execution_count": 127,
     "metadata": {},
     "output_type": "execute_result"
    }
   ],
   "source": [
    "plt.imshow(dataset_img[0][:,:,0]),plt.show()"
   ]
  },
  {
   "cell_type": "code",
   "execution_count": 128,
   "metadata": {},
   "outputs": [],
   "source": [
    "tb = TensorBoard(log_dir='./log', write_graph=True)\n",
    "model_save = ModelCheckpoint('./model/Mnist-CNN-model.h5',\n",
    "                             monitor='val_loss',\n",
    "                             verbose=100,\n",
    "                             save_best_only=True,\n",
    "                             save_weights_only=True, \n",
    "                             mode='auto',\n",
    "                             period=10)\n",
    "lr_reduce = ReduceLROnPlateau(monitor='val_loss', \n",
    "                              factor=0.1, \n",
    "                              patience=10,\n",
    "                              verbose=0, \n",
    "                              mode='auto',\n",
    "                              min_delta=0.0001, \n",
    "                              min_lr=1e-5)"
   ]
  },
  {
   "cell_type": "code",
   "execution_count": 129,
   "metadata": {},
   "outputs": [],
   "source": [
    "X_train, X_test, y_train, y_test = train_test_split(dataset_img, y_one_hot, test_size=0.3, random_state=1, shuffle=True)"
   ]
  },
  {
   "cell_type": "code",
   "execution_count": 130,
   "metadata": {},
   "outputs": [
    {
     "data": {
      "text/plain": [
       "(49000, 28, 28, 1)"
      ]
     },
     "execution_count": 130,
     "metadata": {},
     "output_type": "execute_result"
    }
   ],
   "source": [
    "X_train.shape"
   ]
  },
  {
   "cell_type": "code",
   "execution_count": 131,
   "metadata": {},
   "outputs": [
    {
     "name": "stdout",
     "output_type": "stream",
     "text": [
      "Epoch 1/2\n",
      "49000/49000 [==============================] - ETA: 1:31 - loss: 13.95 - ETA: 1:16 - loss: 16.15 - ETA: 1:11 - loss: 18.66 - ETA: 1:07 - loss: 20.95 - ETA: 1:05 - loss: 21.52 - ETA: 1:04 - loss: 20.38 - ETA: 1:02 - loss: 18.70 - ETA: 1:01 - loss: 16.87 - ETA: 1:00 - loss: 15.32 - ETA: 1:00 - loss: 14.04 - ETA: 59s - loss: 13.0017 - ETA: 58s - loss: 12.127 - ETA: 58s - loss: 11.381 - ETA: 57s - loss: 10.747 - ETA: 57s - loss: 10.196 - ETA: 56s - loss: 9.712 - ETA: 56s - loss: 9.28 - ETA: 55s - loss: 8.89 - ETA: 55s - loss: 8.54 - ETA: 54s - loss: 8.23 - ETA: 53s - loss: 7.95 - ETA: 53s - loss: 7.69 - ETA: 52s - loss: 7.46 - ETA: 52s - loss: 7.24 - ETA: 51s - loss: 7.04 - ETA: 51s - loss: 6.86 - ETA: 50s - loss: 6.69 - ETA: 50s - loss: 6.54 - ETA: 49s - loss: 6.39 - ETA: 48s - loss: 6.25 - ETA: 48s - loss: 6.13 - ETA: 47s - loss: 6.01 - ETA: 47s - loss: 5.89 - ETA: 46s - loss: 5.79 - ETA: 46s - loss: 5.69 - ETA: 45s - loss: 5.59 - ETA: 45s - loss: 5.51 - ETA: 44s - loss: 5.42 - ETA: 44s - loss: 5.34 - ETA: 43s - loss: 5.26 - ETA: 43s - loss: 5.19 - ETA: 42s - loss: 5.12 - ETA: 42s - loss: 5.06 - ETA: 41s - loss: 4.99 - ETA: 41s - loss: 4.93 - ETA: 40s - loss: 4.88 - ETA: 39s - loss: 4.82 - ETA: 39s - loss: 4.77 - ETA: 38s - loss: 4.72 - ETA: 38s - loss: 4.67 - ETA: 37s - loss: 4.62 - ETA: 37s - loss: 4.58 - ETA: 36s - loss: 4.54 - ETA: 36s - loss: 4.49 - ETA: 35s - loss: 4.45 - ETA: 35s - loss: 4.42 - ETA: 34s - loss: 4.38 - ETA: 34s - loss: 4.34 - ETA: 33s - loss: 4.31 - ETA: 33s - loss: 4.27 - ETA: 32s - loss: 4.24 - ETA: 32s - loss: 4.21 - ETA: 31s - loss: 4.18 - ETA: 31s - loss: 4.15 - ETA: 30s - loss: 4.12 - ETA: 29s - loss: 4.09 - ETA: 29s - loss: 4.06 - ETA: 28s - loss: 4.04 - ETA: 28s - loss: 4.01 - ETA: 27s - loss: 3.99 - ETA: 27s - loss: 3.96 - ETA: 26s - loss: 3.94 - ETA: 26s - loss: 3.92 - ETA: 25s - loss: 3.89 - ETA: 25s - loss: 3.87 - ETA: 24s - loss: 3.85 - ETA: 24s - loss: 3.83 - ETA: 23s - loss: 3.81 - ETA: 23s - loss: 3.79 - ETA: 22s - loss: 3.77 - ETA: 22s - loss: 3.75 - ETA: 21s - loss: 3.73 - ETA: 20s - loss: 3.72 - ETA: 20s - loss: 3.70 - ETA: 19s - loss: 3.68 - ETA: 19s - loss: 3.66 - ETA: 18s - loss: 3.65 - ETA: 18s - loss: 3.63 - ETA: 17s - loss: 3.61 - ETA: 17s - loss: 3.60 - ETA: 16s - loss: 3.58 - ETA: 16s - loss: 3.57 - ETA: 15s - loss: 3.55 - ETA: 15s - loss: 3.54 - ETA: 14s - loss: 3.52 - ETA: 14s - loss: 3.51 - ETA: 13s - loss: 3.49 - ETA: 12s - loss: 3.48 - ETA: 12s - loss: 3.46 - ETA: 11s - loss: 3.45 - ETA: 11s - loss: 3.43 - ETA: 10s - loss: 3.42 - ETA: 10s - loss: 3.41 - ETA: 9s - loss: 3.3968 - ETA: 9s - loss: 3.382 - ETA: 8s - loss: 3.368 - ETA: 8s - loss: 3.354 - ETA: 7s - loss: 3.341 - ETA: 7s - loss: 3.327 - ETA: 6s - loss: 3.313 - ETA: 6s - loss: 3.299 - ETA: 5s - loss: 3.285 - ETA: 5s - loss: 3.271 - ETA: 4s - loss: 3.257 - ETA: 3s - loss: 3.243 - ETA: 3s - loss: 3.228 - ETA: 2s - loss: 3.214 - ETA: 2s - loss: 3.199 - ETA: 1s - loss: 3.185 - ETA: 1s - loss: 3.170 - ETA: 0s - loss: 3.155 - ETA: 0s - loss: 3.140 - 65s 1ms/step - loss: 3.1329\n"
     ]
    },
    {
     "name": "stderr",
     "output_type": "stream",
     "text": [
      "D:\\conda\\lib\\site-packages\\keras\\callbacks\\callbacks.py:1042: RuntimeWarning: Reduce LR on plateau conditioned on metric `val_loss` which is not available. Available metrics are: loss,lr\n",
      "  (self.monitor, ','.join(list(logs.keys()))), RuntimeWarning\n"
     ]
    },
    {
     "name": "stdout",
     "output_type": "stream",
     "text": [
      "Epoch 2/2\n",
      "49000/49000 [==============================] - ETA: 1:05 - loss: 1.220 - ETA: 1:03 - loss: 1.188 - ETA: 1:03 - loss: 1.190 - ETA: 1:03 - loss: 1.162 - ETA: 1:02 - loss: 1.134 - ETA: 1:02 - loss: 1.112 - ETA: 1:01 - loss: 1.082 - ETA: 1:00 - loss: 1.060 - ETA: 1:00 - loss: 1.044 - ETA: 59s - loss: 1.033 - ETA: 59s - loss: 1.01 - ETA: 58s - loss: 0.99 - ETA: 58s - loss: 0.98 - ETA: 57s - loss: 0.95 - ETA: 57s - loss: 0.94 - ETA: 56s - loss: 0.92 - ETA: 56s - loss: 0.91 - ETA: 55s - loss: 0.89 - ETA: 55s - loss: 0.88 - ETA: 54s - loss: 0.86 - ETA: 54s - loss: 0.85 - ETA: 53s - loss: 0.84 - ETA: 52s - loss: 0.83 - ETA: 52s - loss: 0.82 - ETA: 51s - loss: 0.81 - ETA: 51s - loss: 0.80 - ETA: 50s - loss: 0.78 - ETA: 50s - loss: 0.78 - ETA: 49s - loss: 0.76 - ETA: 49s - loss: 0.76 - ETA: 48s - loss: 0.75 - ETA: 48s - loss: 0.74 - ETA: 47s - loss: 0.73 - ETA: 47s - loss: 0.72 - ETA: 46s - loss: 0.71 - ETA: 46s - loss: 0.70 - ETA: 45s - loss: 0.70 - ETA: 45s - loss: 0.69 - ETA: 44s - loss: 0.68 - ETA: 43s - loss: 0.67 - ETA: 43s - loss: 0.67 - ETA: 42s - loss: 0.66 - ETA: 42s - loss: 0.65 - ETA: 41s - loss: 0.65 - ETA: 41s - loss: 0.64 - ETA: 40s - loss: 0.63 - ETA: 40s - loss: 0.63 - ETA: 39s - loss: 0.62 - ETA: 39s - loss: 0.62 - ETA: 38s - loss: 0.61 - ETA: 38s - loss: 0.60 - ETA: 37s - loss: 0.60 - ETA: 37s - loss: 0.59 - ETA: 36s - loss: 0.59 - ETA: 36s - loss: 0.58 - ETA: 35s - loss: 0.58 - ETA: 34s - loss: 0.58 - ETA: 34s - loss: 0.57 - ETA: 33s - loss: 0.57 - ETA: 33s - loss: 0.56 - ETA: 32s - loss: 0.56 - ETA: 32s - loss: 0.56 - ETA: 31s - loss: 0.55 - ETA: 31s - loss: 0.55 - ETA: 30s - loss: 0.54 - ETA: 30s - loss: 0.54 - ETA: 29s - loss: 0.54 - ETA: 29s - loss: 0.53 - ETA: 28s - loss: 0.53 - ETA: 28s - loss: 0.53 - ETA: 27s - loss: 0.53 - ETA: 27s - loss: 0.53 - ETA: 26s - loss: 0.52 - ETA: 25s - loss: 0.52 - ETA: 25s - loss: 0.52 - ETA: 24s - loss: 0.52 - ETA: 24s - loss: 0.52 - ETA: 23s - loss: 0.51 - ETA: 23s - loss: 0.51 - ETA: 22s - loss: 0.51 - ETA: 22s - loss: 0.51 - ETA: 21s - loss: 0.51 - ETA: 21s - loss: 0.51 - ETA: 20s - loss: 0.50 - ETA: 20s - loss: 0.50 - ETA: 19s - loss: 0.50 - ETA: 19s - loss: 0.50 - ETA: 18s - loss: 0.50 - ETA: 17s - loss: 0.49 - ETA: 17s - loss: 0.49 - ETA: 16s - loss: 0.49 - ETA: 16s - loss: 0.49 - ETA: 15s - loss: 0.49 - ETA: 15s - loss: 0.48 - ETA: 14s - loss: 0.48 - ETA: 14s - loss: 0.48 - ETA: 13s - loss: 0.48 - ETA: 13s - loss: 0.48 - ETA: 12s - loss: 0.47 - ETA: 12s - loss: 0.47 - ETA: 11s - loss: 0.47 - ETA: 11s - loss: 0.47 - ETA: 10s - loss: 0.47 - ETA: 9s - loss: 0.4682 - ETA: 9s - loss: 0.466 - ETA: 8s - loss: 0.464 - ETA: 8s - loss: 0.461 - ETA: 7s - loss: 0.459 - ETA: 7s - loss: 0.457 - ETA: 6s - loss: 0.455 - ETA: 6s - loss: 0.454 - ETA: 5s - loss: 0.452 - ETA: 5s - loss: 0.450 - ETA: 4s - loss: 0.448 - ETA: 4s - loss: 0.447 - ETA: 3s - loss: 0.445 - ETA: 2s - loss: 0.444 - ETA: 2s - loss: 0.442 - ETA: 1s - loss: 0.440 - ETA: 1s - loss: 0.439 - ETA: 0s - loss: 0.437 - ETA: 0s - loss: 0.435 - 66s 1ms/step - loss: 0.4344\n"
     ]
    },
    {
     "data": {
      "text/plain": [
       "<keras.callbacks.callbacks.History at 0x188614c0948>"
      ]
     },
     "execution_count": 131,
     "metadata": {},
     "output_type": "execute_result"
    }
   ],
   "source": [
    "model.fit(X_train, y_train ,batch_size=400,epochs=2,verbose=1,\n",
    "         callbacks=[lr_reduce, model_save])"
   ]
  },
  {
   "cell_type": "code",
   "execution_count": 134,
   "metadata": {},
   "outputs": [
    {
     "name": "stdout",
     "output_type": "stream",
     "text": [
      "21000/21000 [==============================] - ETA: 11 - ETA: 16 - ETA: 17 - ETA: 18 - ETA: 19 - ETA: 19 - ETA: 19 - ETA: 19 - ETA: 19 - ETA: 19 - ETA: 19 - ETA: 19 - ETA: 19 - ETA: 19 - ETA: 19 - ETA: 19 - ETA: 19 - ETA: 19 - ETA: 19 - ETA: 19 - ETA: 19 - ETA: 19 - ETA: 19 - ETA: 19 - ETA: 19 - ETA: 19 - ETA: 19 - ETA: 19 - ETA: 19 - ETA: 19 - ETA: 19 - ETA: 19 - ETA: 19 - ETA: 19 - ETA: 19 - ETA: 19 - ETA: 19 - ETA: 19 - ETA: 19 - ETA: 18 - ETA: 18 - ETA: 18 - ETA: 18 - ETA: 18 - ETA: 18 - ETA: 18 - ETA: 18 - ETA: 18 - ETA: 18 - ETA: 18 - ETA: 18 - ETA: 18 - ETA: 18 - ETA: 18 - ETA: 18 - ETA: 18 - ETA: 18 - ETA: 17 - ETA: 17 - ETA: 17 - ETA: 17 - ETA: 17 - ETA: 17 - ETA: 17 - ETA: 17 - ETA: 17 - ETA: 17 - ETA: 17 - ETA: 17 - ETA: 17 - ETA: 17 - ETA: 16 - ETA: 16 - ETA: 16 - ETA: 16 - ETA: 16 - ETA: 16 - ETA: 16 - ETA: 16 - ETA: 16 - ETA: 16 - ETA: 16 - ETA: 16 - ETA: 16 - ETA: 16 - ETA: 16 - ETA: 15 - ETA: 15 - ETA: 15 - ETA: 15 - ETA: 15 - ETA: 15 - ETA: 15 - ETA: 15 - ETA: 15 - ETA: 15 - ETA: 15 - ETA: 15 - ETA: 15 - ETA: 15 - ETA: 15 - ETA: 15 - ETA: 14 - ETA: 14 - ETA: 14 - ETA: 14 - ETA: 14 - ETA: 14 - ETA: 14 - ETA: 14 - ETA: 14 - ETA: 14 - ETA: 14 - ETA: 14 - ETA: 14 - ETA: 14 - ETA: 14 - ETA: 13 - ETA: 13 - ETA: 13 - ETA: 13 - ETA: 13 - ETA: 13 - ETA: 13 - ETA: 13 - ETA: 13 - ETA: 13 - ETA: 13 - ETA: 13 - ETA: 13 - ETA: 13 - ETA: 13 - ETA: 12 - ETA: 12 - ETA: 12 - ETA: 12 - ETA: 12 - ETA: 12 - ETA: 12 - ETA: 12 - ETA: 12 - ETA: 12 - ETA: 12 - ETA: 12 - ETA: 12 - ETA: 12 - ETA: 12 - ETA: 11 - ETA: 11 - ETA: 11 - ETA: 11 - ETA: 11 - ETA: 11 - ETA: 11 - ETA: 11 - ETA: 11 - ETA: 11 - ETA: 11 - ETA: 11 - ETA: 11 - ETA: 11 - ETA: 10 - ETA: 10 - ETA: 10 - ETA: 10 - ETA: 10 - ETA: 10 - ETA: 10 - ETA: 10 - ETA: 10 - ETA: 10 - ETA: 10 - ETA: 10 - ETA: 10 - ETA: 10 - ETA: 10 - ETA: 9 - ETA:  - ETA:  - ETA:  - ETA:  - ETA:  - ETA:  - ETA:  - ETA:  - ETA:  - ETA:  - ETA:  - ETA:  - ETA:  - ETA:  - ETA:  - ETA:  - ETA:  - ETA:  - ETA:  - ETA:  - ETA:  - ETA:  - ETA:  - ETA:  - ETA:  - ETA:  - ETA:  - ETA:  - ETA:  - ETA:  - ETA:  - ETA:  - ETA:  - ETA:  - ETA:  - ETA:  - ETA:  - ETA:  - ETA:  - ETA:  - ETA:  - ETA:  - ETA:  - ETA:  - ETA:  - ETA:  - ETA:  - ETA:  - ETA:  - ETA:  - ETA:  - ETA:  - ETA:  - ETA:  - ETA:  - ETA:  - ETA:  - ETA:  - ETA:  - ETA:  - ETA:  - ETA:  - ETA:  - ETA:  - ETA:  - ETA:  - ETA:  - ETA:  - ETA:  - ETA:  - ETA:  - ETA:  - ETA:  - ETA:  - ETA:  - ETA:  - ETA:  - ETA:  - ETA:  - ETA:  - ETA:  - ETA:  - ETA:  - ETA:  - ETA:  - ETA:  - ETA:  - ETA:  - ETA:  - ETA:  - ETA:  - ETA:  - ETA:  - ETA:  - ETA:  - ETA:  - ETA:  - ETA:  - ETA:  - ETA:  - ETA:  - ETA:  - ETA:  - ETA:  - ETA:  - ETA:  - ETA:  - ETA:  - ETA:  - ETA:  - ETA:  - ETA:  - ETA:  - ETA:  - ETA:  - ETA:  - ETA:  - ETA:  - ETA:  - ETA:  - ETA:  - ETA:  - ETA:  - ETA:  - ETA:  - ETA:  - ETA:  - ETA:  - ETA:  - ETA:  - ETA:  - ETA:  - ETA:  - ETA:  - ETA:  - ETA:  - ETA:  - ETA:  - ETA:  - ETA:  - ETA:  - ETA:  - ETA:  - ETA:  - ETA:  - ETA:  - ETA:  - ETA:  - ETA:  - 22s 1ms/step\n"
     ]
    },
    {
     "data": {
      "text/plain": [
       "0.2186149250240553"
      ]
     },
     "execution_count": 134,
     "metadata": {},
     "output_type": "execute_result"
    }
   ],
   "source": [
    "model.evaluate(X_test, y_test)"
   ]
  },
  {
   "cell_type": "code",
   "execution_count": 137,
   "metadata": {},
   "outputs": [],
   "source": [
    "pred = model.predict(X_test)"
   ]
  },
  {
   "cell_type": "code",
   "execution_count": null,
   "metadata": {},
   "outputs": [],
   "source": [
    "import numpy as np"
   ]
  },
  {
   "cell_type": "code",
   "execution_count": 141,
   "metadata": {},
   "outputs": [],
   "source": [
    "y_test_label = np.array([np.argmax(d) for d in y_test])\n",
    "y_pre_label = np.array([np.argmax(d) for d in pred])"
   ]
  },
  {
   "cell_type": "code",
   "execution_count": 144,
   "metadata": {},
   "outputs": [
    {
     "name": "stdout",
     "output_type": "stream",
     "text": [
      "(21000,)\n",
      "(21000,)\n"
     ]
    }
   ],
   "source": [
    "print(y_test_label.shape)\n",
    "print(y_pre_label.shape)"
   ]
  },
  {
   "cell_type": "code",
   "execution_count": 147,
   "metadata": {},
   "outputs": [],
   "source": [
    "from sklearn.metrics import accuracy_score"
   ]
  },
  {
   "cell_type": "code",
   "execution_count": 148,
   "metadata": {},
   "outputs": [
    {
     "data": {
      "text/plain": [
       "0.9355238095238095"
      ]
     },
     "execution_count": 148,
     "metadata": {},
     "output_type": "execute_result"
    }
   ],
   "source": [
    "accuracy_score(y_test_label, y_pre_label)"
   ]
  },
  {
   "cell_type": "code",
   "execution_count": 151,
   "metadata": {},
   "outputs": [
    {
     "data": {
      "text/plain": [
       "(1, 28, 28, 1)"
      ]
     },
     "execution_count": 151,
     "metadata": {},
     "output_type": "execute_result"
    }
   ],
   "source": [
    "test_sample = X_test[1001, :, :, :]\n",
    "test_sample = np.reshape(test_sample, [1, test_sample.shape[0], test_sample.shape[1], test_sample.shape[2]])\n",
    "test_sample.shape"
   ]
  },
  {
   "cell_type": "code",
   "execution_count": 155,
   "metadata": {},
   "outputs": [
    {
     "name": "stdout",
     "output_type": "stream",
     "text": [
      "[[6.7172768e-05 2.3228847e-06 6.6676665e-05 1.5833306e-03 6.2200324e-06\n",
      "  1.9191639e-02 7.9360162e-04 9.5396308e-07 9.7817695e-01 1.1110102e-04]]\n",
      "8\n"
     ]
    }
   ],
   "source": [
    "test_result = model.predict(test_sample)\n",
    "print(test_result)\n",
    "print(np.argmax(test_result))"
   ]
  },
  {
   "cell_type": "code",
   "execution_count": 156,
   "metadata": {},
   "outputs": [
    {
     "data": {
      "image/png": "[encoded data removed]",
      "text/plain": [
       "<Figure size 432x288 with 1 Axes>"
      ]
     },
     "metadata": {
      "needs_background": "light"
     },
     "output_type": "display_data"
    },
    {
     "data": {
      "text/plain": [
       "(<matplotlib.image.AxesImage at 0x18847280ac8>, None)"
      ]
     },
     "execution_count": 156,
     "metadata": {},
     "output_type": "execute_result"
    }
   ],
   "source": [
    "plt.imshow(test_sample[0, :,:, 0]),plt.show()"
   ]
  },
  {
   "cell_type": "code",
   "execution_count": null,
   "metadata": {},
   "outputs": [],
   "source": []
  },
  {
   "cell_type": "markdown",
   "metadata": {},
   "source": [
    "#### 使用预训练的模型进行分类"
   ]
  },
  {
   "cell_type": "code",
   "execution_count": 2,
   "metadata": {},
   "outputs": [
    {
     "name": "stderr",
     "output_type": "stream",
     "text": [
      "Using TensorFlow backend.\n"
     ]
    }
   ],
   "source": [
    "from keras.applications.vgg16 import VGG16"
   ]
  },
  {
   "cell_type": "code",
   "execution_count": 3,
   "metadata": {},
   "outputs": [],
   "source": [
    "from keras.datasets import fashion_mnist"
   ]
  },
  {
   "cell_type": "code",
   "execution_count": 4,
   "metadata": {},
   "outputs": [],
   "source": [
    "def get_pretrained_model():\n",
    "    input_tensor = Input(shape=(32, 32, 3))\n",
    "    base_model = VGG16(include_top=False, weights='imagenet', input_tensor=input_tensor, pooling='avg',classes=10)\n",
    "    x = base_model.output\n",
    "    x = GlobalAveragePooling2D()(x)\n",
    "    x = Dense(1024, activation='relu')(x)\n",
    "    y = Dense(10, activation='softmax')(x)\n",
    "    model = Model(inputs=base_model.input, outputs= y)\n",
    "    model.compile(optimizer='rmsprop', loss='categorical_crossentropy')\n",
    "    return model"
   ]
  },
  {
   "cell_type": "code",
   "execution_count": null,
   "metadata": {},
   "outputs": [
    {
     "name": "stdout",
     "output_type": "stream",
     "text": [
      "Downloading data from https://github.com/fchollet/deep-learning-models/releases/download/v0.1/vgg16_weights_tf_dim_ordering_tf_kernels_notop.h5\n"
     ]
    }
   ],
   "source": [
    "model_vgg = get_pretrained_model()"
   ]
  },
  {
   "cell_type": "code",
   "execution_count": null,
   "metadata": {},
   "outputs": [],
   "source": []
  }
 ],
 "metadata": {
  "kernelspec": {
   "display_name": "Python 3",
   "language": "python",
   "name": "python3"
  },
  "language_info": {
   "codemirror_mode": {
    "name": "ipython",
    "version": 3
   },
   "file_extension": ".py",
   "mimetype": "text/x-python",
   "name": "python",
   "nbconvert_exporter": "python",
   "pygments_lexer": "ipython3",
   "version": "3.7.4"
  }
 },
 "nbformat": 4,
 "nbformat_minor": 2
}
