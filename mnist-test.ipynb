{
 "cells": [
  {
   "cell_type": "code",
   "execution_count": 1,
   "metadata": {},
   "outputs": [],
   "source": [
    "from scipy import io as scio\n",
    "import numpy as np\n",
    "import matplotlib.pyplot as plt\n",
    "import skimage.transform as sktransform\n",
    "from skimage.filters import threshold_otsu, threshold_sauvola\n",
    "from skimage import feature\n",
    "from tqdm import *\n",
    "from sklearn.model_selection import train_test_split\n",
    "from sklearn.ensemble import RandomForestClassifier\n",
    "from sklearn.metrics import classification_report"
   ]
  },
  {
   "cell_type": "code",
   "execution_count": 2,
   "metadata": {},
   "outputs": [],
   "source": [
    "data = scio.loadmat('./mnist-original.mat')"
   ]
  },
  {
   "cell_type": "code",
   "execution_count": 3,
   "metadata": {},
   "outputs": [],
   "source": [
    "img_data = data['data']\n",
    "label_data = data['label']"
   ]
  },
  {
   "cell_type": "code",
   "execution_count": 4,
   "metadata": {},
   "outputs": [],
   "source": [
    "img_data = img_data / 255"
   ]
  },
  {
   "cell_type": "code",
   "execution_count": 5,
   "metadata": {},
   "outputs": [
    {
     "data": {
      "text/plain": [
       "(784, 70000)"
      ]
     },
     "execution_count": 5,
     "metadata": {},
     "output_type": "execute_result"
    }
   ],
   "source": [
    "img_data.shape"
   ]
  },
  {
   "cell_type": "code",
   "execution_count": 6,
   "metadata": {},
   "outputs": [
    {
     "data": {
      "text/plain": [
       "(1, 70000)"
      ]
     },
     "execution_count": 6,
     "metadata": {},
     "output_type": "execute_result"
    }
   ],
   "source": [
    "label_data.shape"
   ]
  },
  {
   "cell_type": "code",
   "execution_count": 7,
   "metadata": {},
   "outputs": [
    {
     "data": {
      "image/png": "[encoded data removed]",
      "text/plain": [
       "<Figure size 432x288 with 1 Axes>"
      ]
     },
     "metadata": {
      "needs_background": "light"
     },
     "output_type": "display_data"
    }
   ],
   "source": [
    "img_sample = np.reshape(img_data[:, 0], [28, 28])\n",
    "plt.imshow(img_sample, cmap='gray')\n",
    "plt.show()"
   ]
  },
  {
   "cell_type": "code",
   "execution_count": 8,
   "metadata": {},
   "outputs": [
    {
     "name": "stdout",
     "output_type": "stream",
     "text": [
      "(70000, 784)\n",
      "(70000, 1)\n"
     ]
    }
   ],
   "source": [
    "dataset = img_data.T\n",
    "label = label_data.T\n",
    "print(dataset.shape)\n",
    "print(label.shape)"
   ]
  },
  {
   "cell_type": "code",
   "execution_count": 9,
   "metadata": {},
   "outputs": [],
   "source": [
    "def get_features_list(img):\n",
    "    \"\"\"\n",
    "    Args:\n",
    "        path : string :要进行特征提取的图片路径\n",
    "    Return:\n",
    "        feature_list : dict : 包含三种特征的字典\n",
    "    \"\"\"\n",
    "    gray_image = img\n",
    "    otsu_threshold = threshold_otsu(gray_image)\n",
    "    bin_image = gray_image > otsu_threshold\n",
    "    # 此处分别使用了水平、竖直、以及45 和135 度方向求 GLCM特征\n",
    "#     feature_glcm = feature.greycomatrix(gray_image, [3], [0, np.pi / 4, np.pi / 2, 3 * np.pi / 4], levels=256)\n",
    "#     hog_feature_vector, hog_image = feature.hog(gray_image, orientations=8, pixels_per_cell=(5, 5),\n",
    "#                                                 cells_per_block=(1, 1), visualize=True, block_norm='L2-Hys',\n",
    "#                                                 feature_vector=True)\n",
    "    # 设置LBP 特征提取算法的参数\n",
    "    radius = 3\n",
    "    n_points = 8 * radius\n",
    "    #print(gray_image.dtype)\n",
    "    feature_lbp = feature.local_binary_pattern(bin_image, n_points, radius, 'uniform')\n",
    "#     feature_glcm_flattened = feature_glcm.flatten()\n",
    "#     feature_hog_flattened = hog_feature_vector\n",
    "    feature_lbp_flattended = feature_lbp.flatten()\n",
    "    #result = {'glcm': feature_glcm_flattened, 'hog': feature_hog_flattened, 'lbp': feature_lbp_flattended}\n",
    "    result = {'lbp': feature_lbp_flattended}\n",
    "    return result"
   ]
  },
  {
   "cell_type": "code",
   "execution_count": null,
   "metadata": {},
   "outputs": [],
   "source": [
    "clf = RandomForestClassifier(n_jobs=-1)"
   ]
  },
  {
   "cell_type": "code",
   "execution_count": null,
   "metadata": {},
   "outputs": [],
   "source": [
    "lbp_feature = []\n",
    "glcm_feature = []\n",
    "hog_feature = []"
   ]
  },
  {
   "cell_type": "code",
   "execution_count": null,
   "metadata": {},
   "outputs": [],
   "source": [
    "for img in tqdm(dataset):\n",
    "    image = np.reshape(img, [28, 28])\n",
    "    features = get_features_list(image)\n",
    "    lbp_feature.append(features['lbp'])\n",
    "#     lbp_feature.append(features['glcm'])\n",
    "#     lbp_feature.append(features['hog'])"
   ]
  },
  {
   "cell_type": "code",
   "execution_count": null,
   "metadata": {},
   "outputs": [],
   "source": [
    "lbp_feature = np.array(lbp_feature)"
   ]
  },
  {
   "cell_type": "code",
   "execution_count": null,
   "metadata": {},
   "outputs": [],
   "source": [
    "lbp_feature.shape"
   ]
  },
  {
   "cell_type": "code",
   "execution_count": null,
   "metadata": {},
   "outputs": [],
   "source": [
    "X_train, X_test, y_train, y_test = train_test_split(lbp_feature, label, test_size=0.3, random_state=1, shuffle=True)"
   ]
  },
  {
   "cell_type": "code",
   "execution_count": null,
   "metadata": {},
   "outputs": [],
   "source": [
    "clf.fit(X_train, y_train)"
   ]
  },
  {
   "cell_type": "code",
   "execution_count": null,
   "metadata": {},
   "outputs": [],
   "source": [
    "clf.score(X_test, y_test)"
   ]
  },
  {
   "cell_type": "code",
   "execution_count": null,
   "metadata": {},
   "outputs": [],
   "source": [
    "test_img = np.reshape(dataset[19999, :], [28, 28])\n",
    "plt.imshow(test_img)\n",
    "plt.show()"
   ]
  },
  {
   "cell_type": "code",
   "execution_count": null,
   "metadata": {},
   "outputs": [],
   "source": [
    "lbp = get_features_list(test_img)['lbp']\n",
    "lbp = np.reshape(lbp, [1, lbp.shape[0]])"
   ]
  },
  {
   "cell_type": "code",
   "execution_count": null,
   "metadata": {},
   "outputs": [],
   "source": [
    "clf.predict(lbp)"
   ]
  },
  {
   "cell_type": "code",
   "execution_count": null,
   "metadata": {},
   "outputs": [],
   "source": [
    "lbp_img = np.reshape(lbp, [28,28])\n",
    "plt.imshow(lbp_img)\n",
    "plt.show()"
   ]
  },
  {
   "cell_type": "code",
   "execution_count": null,
   "metadata": {},
   "outputs": [],
   "source": [
    "pred = clf.predict(X_test)"
   ]
  },
  {
   "cell_type": "code",
   "execution_count": null,
   "metadata": {},
   "outputs": [],
   "source": [
    "print(classification_report(y_test, pred))"
   ]
  },
  {
   "cell_type": "code",
   "execution_count": null,
   "metadata": {},
   "outputs": [],
   "source": []
  },
  {
   "cell_type": "markdown",
   "metadata": {},
   "source": [
    "### 使用keras 搭建一个简单的CNN 来实现分类"
   ]
  },
  {
   "cell_type": "code",
   "execution_count": 10,
   "metadata": {},
   "outputs": [
    {
     "name": "stderr",
     "output_type": "stream",
     "text": [
      "Using TensorFlow backend.\n"
     ]
    }
   ],
   "source": [
    "from keras.layers import Input, Conv1D, Conv2D, MaxPool1D, MaxPool2D, Softmax, GlobalAveragePooling2D, Dense,\\\n",
    "Dropout\n",
    "from keras.optimizers import SGD\n",
    "from keras.callbacks import TensorBoard, ReduceLROnPlateau, ModelCheckpoint\n",
    "from keras.models import Model\n",
    "from keras.utils import to_categorical\n",
    "import os\n",
    "import tensorflow as tf\n",
    "from keras.backend.tensorflow_backend import set_session\n",
    "os.environ[\"CUDA_VISIBLE_DEVICES\"]=\"1\"\n",
    "config = tf.ConfigProto()\n",
    "config.gpu_options.per_process_gpu_memory_fraction = 0.3\n",
    "set_session(tf.Session(config=config))"
   ]
  },
  {
   "cell_type": "code",
   "execution_count": 11,
   "metadata": {},
   "outputs": [],
   "source": [
    "def get_model():\n",
    "    input_tensor = Input(shape=(28, 28, 1))\n",
    "    x = Conv2D(filters=64 ,kernel_size=(1,1) ,strides=(1, 1), activation='relu')(input_tensor)\n",
    "    x = MaxPool2D(pool_size=(1, 1), strides=(2,2))(x)\n",
    "    \n",
    "    x = Conv2D(filters=128,kernel_size=(3,3), strides=(1, 1), activation='relu')(x)\n",
    "    x = MaxPool2D(pool_size=(2, 2), strides=(2, 2))(x)\n",
    "    \n",
    "    x = Conv2D(filters=256,kernel_size=(3,3), strides=(1, 1), activation='relu')(x)\n",
    "    x = MaxPool2D(pool_size=(2, 2), strides=(2, 2))(x)     \n",
    "    x = GlobalAveragePooling2D()(x)\n",
    "    x = Dense(256, activation='relu')(x)\n",
    "    x = Dropout(0.5)(x)\n",
    "    x = Dense(256)(x)\n",
    "    y = Dense(10,activation='softmax')(x)\n",
    "    model = Model(input=input_tensor, outputs=y)\n",
    "    sgd = SGD(lr=1e-2, momentum=0.9)\n",
    "    model.compile(optimizer=sgd, loss='categorical_crossentropy', metrics=['acc'])\n",
    "    return model"
   ]
  },
  {
   "cell_type": "code",
   "execution_count": 12,
   "metadata": {},
   "outputs": [
    {
     "name": "stderr",
     "output_type": "stream",
     "text": [
      "/home/zyp/miniconda3/envs/pda/lib/python3.6/site-packages/ipykernel_launcher.py:16: UserWarning: Update your `Model` call to the Keras 2 API: `Model(outputs=Tensor(\"de..., inputs=Tensor(\"in...)`\n",
      "  app.launch_new_instance()\n"
     ]
    }
   ],
   "source": [
    "model = get_model()"
   ]
  },
  {
   "cell_type": "code",
   "execution_count": 13,
   "metadata": {},
   "outputs": [
    {
     "name": "stdout",
     "output_type": "stream",
     "text": [
      "_________________________________________________________________\n",
      "Layer (type)                 Output Shape              Param #   \n",
      "=================================================================\n",
      "input_1 (InputLayer)         (None, 28, 28, 1)         0         \n",
      "_________________________________________________________________\n",
      "conv2d_1 (Conv2D)            (None, 28, 28, 64)        128       \n",
      "_________________________________________________________________\n",
      "max_pooling2d_1 (MaxPooling2 (None, 14, 14, 64)        0         \n",
      "_________________________________________________________________\n",
      "conv2d_2 (Conv2D)            (None, 12, 12, 128)       73856     \n",
      "_________________________________________________________________\n",
      "max_pooling2d_2 (MaxPooling2 (None, 6, 6, 128)         0         \n",
      "_________________________________________________________________\n",
      "conv2d_3 (Conv2D)            (None, 4, 4, 256)         295168    \n",
      "_________________________________________________________________\n",
      "max_pooling2d_3 (MaxPooling2 (None, 2, 2, 256)         0         \n",
      "_________________________________________________________________\n",
      "global_average_pooling2d_1 ( (None, 256)               0         \n",
      "_________________________________________________________________\n",
      "dense_1 (Dense)              (None, 256)               65792     \n",
      "_________________________________________________________________\n",
      "dropout_1 (Dropout)          (None, 256)               0         \n",
      "_________________________________________________________________\n",
      "dense_2 (Dense)              (None, 256)               65792     \n",
      "_________________________________________________________________\n",
      "dense_3 (Dense)              (None, 10)                2570      \n",
      "=================================================================\n",
      "Total params: 503,306\n",
      "Trainable params: 503,306\n",
      "Non-trainable params: 0\n",
      "_________________________________________________________________\n"
     ]
    }
   ],
   "source": [
    "model.summary()"
   ]
  },
  {
   "cell_type": "code",
   "execution_count": 14,
   "metadata": {},
   "outputs": [
    {
     "data": {
      "text/plain": [
       "(70000, 10)"
      ]
     },
     "execution_count": 14,
     "metadata": {},
     "output_type": "execute_result"
    }
   ],
   "source": [
    "y_one_hot = to_categorical(label)\n",
    "y_one_hot.shape"
   ]
  },
  {
   "cell_type": "code",
   "execution_count": 15,
   "metadata": {},
   "outputs": [],
   "source": [
    "dataset_img = np.reshape(dataset, [dataset.shape[0], 28, 28, 1])"
   ]
  },
  {
   "cell_type": "code",
   "execution_count": 16,
   "metadata": {},
   "outputs": [
    {
     "data": {
      "text/plain": [
       "(70000, 28, 28, 1)"
      ]
     },
     "execution_count": 16,
     "metadata": {},
     "output_type": "execute_result"
    }
   ],
   "source": [
    "dataset_img.shape"
   ]
  },
  {
   "cell_type": "code",
   "execution_count": 17,
   "metadata": {},
   "outputs": [
    {
     "data": {
      "image/png": "[encoded data removed]",
      "text/plain": [
       "<Figure size 432x288 with 1 Axes>"
      ]
     },
     "metadata": {
      "needs_background": "light"
     },
     "output_type": "display_data"
    },
    {
     "data": {
      "text/plain": [
       "(<matplotlib.image.AxesImage at 0x7f1de00b7f28>, None)"
      ]
     },
     "execution_count": 17,
     "metadata": {},
     "output_type": "execute_result"
    }
   ],
   "source": [
    "plt.imshow(dataset_img[0][:,:,0]),plt.show()"
   ]
  },
  {
   "cell_type": "code",
   "execution_count": 18,
   "metadata": {},
   "outputs": [],
   "source": [
    "from visualize_feature_map import MyTensorBoard"
   ]
  },
  {
   "cell_type": "code",
   "execution_count": 19,
   "metadata": {},
   "outputs": [],
   "source": [
    "tb = TensorBoard(log_dir='./log', \n",
    "                 histogram_freq=10, \n",
    "                 batch_size=32\n",
    "                )\n",
    "model_save = ModelCheckpoint('./model/Mnist-CNN-model.h5',\n",
    "                             monitor='val_loss',\n",
    "                             verbose=100,\n",
    "                             save_best_only=True,\n",
    "                             save_weights_only=True, \n",
    "                             mode='auto',\n",
    "                             period=10)\n",
    "lr_reduce = ReduceLROnPlateau(monitor='val_loss', \n",
    "                              factor=0.1, \n",
    "                              patience=10,\n",
    "                              verbose=0, \n",
    "                              mode='auto',\n",
    "                              min_delta=0.0001, \n",
    "                              min_lr=1e-5)"
   ]
  },
  {
   "cell_type": "code",
   "execution_count": 20,
   "metadata": {},
   "outputs": [],
   "source": [
    "X_train, X_test, y_train, y_test = train_test_split(dataset_img, y_one_hot, test_size=0.3, random_state=1, shuffle=True)"
   ]
  },
  {
   "cell_type": "code",
   "execution_count": 21,
   "metadata": {},
   "outputs": [
    {
     "data": {
      "text/plain": [
       "(49000, 28, 28, 1)"
      ]
     },
     "execution_count": 21,
     "metadata": {},
     "output_type": "execute_result"
    }
   ],
   "source": [
    "X_train.shape"
   ]
  },
  {
   "cell_type": "code",
   "execution_count": 22,
   "metadata": {},
   "outputs": [
    {
     "name": "stdout",
     "output_type": "stream",
     "text": [
      "Train on 44100 samples, validate on 4900 samples\n",
      "Epoch 1/20\n",
      "44100/44100 [==============================] - 5s 105us/step - loss: 2.2593 - acc: 0.2284 - val_loss: 2.1302 - val_acc: 0.5796\n",
      "Epoch 2/20\n",
      "44100/44100 [==============================] - 2s 47us/step - loss: 1.3073 - acc: 0.6033 - val_loss: 0.6639 - val_acc: 0.8051\n",
      "Epoch 3/20\n",
      "44100/44100 [==============================] - 2s 47us/step - loss: 0.4440 - acc: 0.8624 - val_loss: 0.2627 - val_acc: 0.9182\n",
      "Epoch 4/20\n",
      "44100/44100 [==============================] - 2s 44us/step - loss: 0.2975 - acc: 0.9100 - val_loss: 0.1878 - val_acc: 0.9451\n",
      "Epoch 5/20\n",
      "44100/44100 [==============================] - 2s 45us/step - loss: 0.2324 - acc: 0.9285 - val_loss: 0.1631 - val_acc: 0.9516\n",
      "Epoch 6/20\n",
      "44100/44100 [==============================] - 2s 46us/step - loss: 0.1891 - acc: 0.9426 - val_loss: 0.1885 - val_acc: 0.9371\n",
      "Epoch 7/20\n",
      "44100/44100 [==============================] - 2s 45us/step - loss: 0.1743 - acc: 0.9473 - val_loss: 0.1272 - val_acc: 0.9584\n",
      "Epoch 8/20\n",
      "44100/44100 [==============================] - 2s 43us/step - loss: 0.1481 - acc: 0.9549 - val_loss: 0.1369 - val_acc: 0.9545\n",
      "Epoch 9/20\n",
      "44100/44100 [==============================] - 2s 44us/step - loss: 0.1404 - acc: 0.9586 - val_loss: 0.1145 - val_acc: 0.9618\n",
      "Epoch 10/20\n",
      "44100/44100 [==============================] - 2s 46us/step - loss: 0.1241 - acc: 0.9622 - val_loss: 0.0955 - val_acc: 0.9686\n",
      "\n",
      "Epoch 00010: val_loss improved from inf to 0.09552, saving model to ./model/Mnist-CNN-model.h5\n",
      "Epoch 11/20\n",
      "44100/44100 [==============================] - 2s 45us/step - loss: 0.1144 - acc: 0.9653 - val_loss: 0.0886 - val_acc: 0.9710\n",
      "Epoch 12/20\n",
      "44100/44100 [==============================] - 2s 45us/step - loss: 0.1081 - acc: 0.9669 - val_loss: 0.0837 - val_acc: 0.9722\n",
      "Epoch 13/20\n",
      "44100/44100 [==============================] - 2s 46us/step - loss: 0.1022 - acc: 0.9687 - val_loss: 0.1145 - val_acc: 0.9645\n",
      "Epoch 14/20\n",
      "44100/44100 [==============================] - 2s 44us/step - loss: 0.0960 - acc: 0.9706 - val_loss: 0.0738 - val_acc: 0.9753\n",
      "Epoch 15/20\n",
      "44100/44100 [==============================] - 2s 45us/step - loss: 0.0872 - acc: 0.9726 - val_loss: 0.0927 - val_acc: 0.9710\n",
      "Epoch 16/20\n",
      "44100/44100 [==============================] - 2s 43us/step - loss: 0.0850 - acc: 0.9733 - val_loss: 0.0788 - val_acc: 0.9739\n",
      "Epoch 17/20\n",
      "44100/44100 [==============================] - 2s 44us/step - loss: 0.0774 - acc: 0.9761 - val_loss: 0.0753 - val_acc: 0.9745\n",
      "Epoch 18/20\n",
      "44100/44100 [==============================] - 2s 43us/step - loss: 0.0741 - acc: 0.9769 - val_loss: 0.0699 - val_acc: 0.9765\n",
      "Epoch 19/20\n",
      "44100/44100 [==============================] - 2s 46us/step - loss: 0.0674 - acc: 0.9802 - val_loss: 0.0683 - val_acc: 0.9776\n",
      "Epoch 20/20\n",
      "44100/44100 [==============================] - 2s 44us/step - loss: 0.0672 - acc: 0.9791 - val_loss: 0.0783 - val_acc: 0.9739\n",
      "\n",
      "Epoch 00020: val_loss improved from 0.09552 to 0.07834, saving model to ./model/Mnist-CNN-model.h5\n"
     ]
    },
    {
     "data": {
      "text/plain": [
       "<keras.callbacks.History at 0x7f1f564de048>"
      ]
     },
     "execution_count": 22,
     "metadata": {},
     "output_type": "execute_result"
    }
   ],
   "source": [
    "model.fit(X_train, y_train ,batch_size=400,epochs=20,verbose=1,validation_split=0.1,\n",
    "         callbacks=[lr_reduce, model_save, tb])"
   ]
  },
  {
   "cell_type": "code",
   "execution_count": 23,
   "metadata": {},
   "outputs": [
    {
     "name": "stdout",
     "output_type": "stream",
     "text": [
      "21000/21000 [==============================] - 1s 66us/step\n"
     ]
    },
    {
     "data": {
      "text/plain": [
       "[0.07511513172112227, 0.9758571428571429]"
      ]
     },
     "execution_count": 23,
     "metadata": {},
     "output_type": "execute_result"
    }
   ],
   "source": [
    "model.evaluate(X_test, y_test)"
   ]
  },
  {
   "cell_type": "code",
   "execution_count": 24,
   "metadata": {},
   "outputs": [],
   "source": [
    "pred = model.predict(X_test)"
   ]
  },
  {
   "cell_type": "code",
   "execution_count": 25,
   "metadata": {},
   "outputs": [],
   "source": [
    "import numpy as np"
   ]
  },
  {
   "cell_type": "code",
   "execution_count": 26,
   "metadata": {},
   "outputs": [],
   "source": [
    "y_test_label = np.array([np.argmax(d) for d in y_test])\n",
    "y_pre_label = np.array([np.argmax(d) for d in pred])"
   ]
  },
  {
   "cell_type": "code",
   "execution_count": 27,
   "metadata": {},
   "outputs": [
    {
     "name": "stdout",
     "output_type": "stream",
     "text": [
      "(21000,)\n",
      "(21000,)\n"
     ]
    }
   ],
   "source": [
    "print(y_test_label.shape)\n",
    "print(y_pre_label.shape)"
   ]
  },
  {
   "cell_type": "code",
   "execution_count": 28,
   "metadata": {},
   "outputs": [],
   "source": [
    "from sklearn.metrics import accuracy_score"
   ]
  },
  {
   "cell_type": "code",
   "execution_count": 29,
   "metadata": {},
   "outputs": [
    {
     "data": {
      "text/plain": [
       "0.9758571428571429"
      ]
     },
     "execution_count": 29,
     "metadata": {},
     "output_type": "execute_result"
    }
   ],
   "source": [
    "accuracy_score(y_test_label, y_pre_label)"
   ]
  },
  {
   "cell_type": "code",
   "execution_count": 30,
   "metadata": {},
   "outputs": [
    {
     "data": {
      "text/plain": [
       "(1, 28, 28, 1)"
      ]
     },
     "execution_count": 30,
     "metadata": {},
     "output_type": "execute_result"
    }
   ],
   "source": [
    "test_sample = X_test[1001, :, :, :]\n",
    "test_sample = np.reshape(test_sample, [1, test_sample.shape[0], test_sample.shape[1], test_sample.shape[2]])\n",
    "test_sample.shape"
   ]
  },
  {
   "cell_type": "code",
   "execution_count": 31,
   "metadata": {},
   "outputs": [
    {
     "name": "stdout",
     "output_type": "stream",
     "text": [
      "[[6.2369465e-09 4.4005267e-13 7.3837603e-10 1.9209171e-08 3.3837873e-11\n",
      "  8.9808651e-08 3.0143916e-09 2.8137223e-13 9.9999952e-01 3.6349377e-07]]\n",
      "8\n"
     ]
    }
   ],
   "source": [
    "test_result = model.predict(test_sample)\n",
    "print(test_result)\n",
    "print(np.argmax(test_result))"
   ]
  },
  {
   "cell_type": "code",
   "execution_count": 32,
   "metadata": {},
   "outputs": [
    {
     "data": {
      "image/png": "[encoded data removed]",
      "text/plain": [
       "<Figure size 432x288 with 1 Axes>"
      ]
     },
     "metadata": {
      "needs_background": "light"
     },
     "output_type": "display_data"
    },
    {
     "data": {
      "text/plain": [
       "(<matplotlib.image.AxesImage at 0x7f1b400d7cc0>, None)"
      ]
     },
     "execution_count": 32,
     "metadata": {},
     "output_type": "execute_result"
    }
   ],
   "source": [
    "plt.imshow(test_sample[0, :,:, 0]),plt.show()"
   ]
  },
  {
   "cell_type": "code",
   "execution_count": 33,
   "metadata": {},
   "outputs": [],
   "source": [
    "import keras.backend as K"
   ]
  },
  {
   "cell_type": "code",
   "execution_count": 34,
   "metadata": {},
   "outputs": [],
   "source": [
    "K.clear_session()"
   ]
  },
  {
   "cell_type": "code",
   "execution_count": null,
   "metadata": {},
   "outputs": [],
   "source": []
  }
 ],
 "metadata": {
  "kernelspec": {
   "display_name": "Python 3",
   "language": "python",
   "name": "python3"
  },
  "language_info": {
   "codemirror_mode": {
    "name": "ipython",
    "version": 3
   },
   "file_extension": ".py",
   "mimetype": "text/x-python",
   "name": "python",
   "nbconvert_exporter": "python",
   "pygments_lexer": "ipython3",
   "version": "3.6.5"
  }
 },
 "nbformat": 4,
 "nbformat_minor": 2
}
